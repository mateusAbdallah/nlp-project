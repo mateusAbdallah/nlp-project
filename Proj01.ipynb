{
 "cells": [
  {
   "cell_type": "markdown",
   "id": "815c10b8-fcf0-48cf-9ea1-0df3e1b91f08",
   "metadata": {},
   "source": [
    "# Part A. Planning"
   ]
  },
  {
   "cell_type": "markdown",
   "id": "b0e0c37f-2131-4a6e-8390-59bd29e02721",
   "metadata": {},
   "source": [
    "## 1. Title, Name and References"
   ]
  },
  {
   "cell_type": "markdown",
   "id": "560e0692-5fcd-423a-8dc9-6de1ffd61d3a",
   "metadata": {},
   "source": [
    "https://neptune.ai/blog/exploratory-data-analysis-natural-language-processing-tools\n",
    "https://www.datacamp.com/tutorial/text-analytics-beginners-nltk\n",
    "\n",
    "\n",
    "\n",
    "- Chiranjeev Sandhu\n",
    "- Jimmy Nham\n",
    "- Kamyar Ghasemi Ghasemvand\n",
    "- Mateus Abdallah Fonseca, 300357823"
   ]
  },
  {
   "cell_type": "markdown",
   "id": "47571efa-f595-467f-949b-5b3652fc3fad",
   "metadata": {},
   "source": [
    "## 2. Planning"
   ]
  },
  {
   "cell_type": "markdown",
   "id": "27a7b705-0b06-4e3a-b527-178b4523c0e7",
   "metadata": {},
   "source": [
    "- Description about how we going to carry out the NLP pipeline to create classification models."
   ]
  },
  {
   "cell_type": "markdown",
   "id": "007ac293-1034-4be2-81f8-9e9e04185b0f",
   "metadata": {},
   "source": [
    "# Part B. Basic Model"
   ]
  },
  {
   "cell_type": "code",
   "execution_count": 1,
   "id": "379def6c-7e59-4f87-b220-64466e8685cc",
   "metadata": {},
   "outputs": [],
   "source": [
    "import pandas as pd"
   ]
  },
  {
   "cell_type": "code",
   "execution_count": 2,
   "id": "9226ed82-96f4-40da-9084-6bd55a790a4f",
   "metadata": {},
   "outputs": [
    {
     "data": {
      "text/html": [
       "<div>\n",
       "<style scoped>\n",
       "    .dataframe tbody tr th:only-of-type {\n",
       "        vertical-align: middle;\n",
       "    }\n",
       "\n",
       "    .dataframe tbody tr th {\n",
       "        vertical-align: top;\n",
       "    }\n",
       "\n",
       "    .dataframe thead th {\n",
       "        text-align: right;\n",
       "    }\n",
       "</style>\n",
       "<table border=\"1\" class=\"dataframe\">\n",
       "  <thead>\n",
       "    <tr style=\"text-align: right;\">\n",
       "      <th></th>\n",
       "      <th>Unnamed: 0</th>\n",
       "      <th>text</th>\n",
       "      <th>label</th>\n",
       "    </tr>\n",
       "  </thead>\n",
       "  <tbody>\n",
       "    <tr>\n",
       "      <th>0</th>\n",
       "      <td>0</td>\n",
       "      <td>− Scope 3: Optional scope that includes indire...</td>\n",
       "      <td>0</td>\n",
       "    </tr>\n",
       "    <tr>\n",
       "      <th>1</th>\n",
       "      <td>1</td>\n",
       "      <td>The Group is not aware of any noise pollution ...</td>\n",
       "      <td>0</td>\n",
       "    </tr>\n",
       "    <tr>\n",
       "      <th>2</th>\n",
       "      <td>2</td>\n",
       "      <td>Global climate change could exacerbate certain...</td>\n",
       "      <td>0</td>\n",
       "    </tr>\n",
       "    <tr>\n",
       "      <th>3</th>\n",
       "      <td>3</td>\n",
       "      <td>Setting an investment horizon is part and parc...</td>\n",
       "      <td>1</td>\n",
       "    </tr>\n",
       "    <tr>\n",
       "      <th>4</th>\n",
       "      <td>4</td>\n",
       "      <td>Climate change the physical impacts of climate...</td>\n",
       "      <td>0</td>\n",
       "    </tr>\n",
       "    <tr>\n",
       "      <th>...</th>\n",
       "      <td>...</td>\n",
       "      <td>...</td>\n",
       "      <td>...</td>\n",
       "    </tr>\n",
       "    <tr>\n",
       "      <th>995</th>\n",
       "      <td>995</td>\n",
       "      <td>Greenhouse gas Mitigation Measures Our five ye...</td>\n",
       "      <td>1</td>\n",
       "    </tr>\n",
       "    <tr>\n",
       "      <th>996</th>\n",
       "      <td>996</td>\n",
       "      <td>We have updated our external sector statements...</td>\n",
       "      <td>1</td>\n",
       "    </tr>\n",
       "    <tr>\n",
       "      <th>997</th>\n",
       "      <td>997</td>\n",
       "      <td>STOREBRAND'S USE Task Force on Climate-related...</td>\n",
       "      <td>0</td>\n",
       "    </tr>\n",
       "    <tr>\n",
       "      <th>998</th>\n",
       "      <td>998</td>\n",
       "      <td>Estimations of nanced emissions indicate the i...</td>\n",
       "      <td>0</td>\n",
       "    </tr>\n",
       "    <tr>\n",
       "      <th>999</th>\n",
       "      <td>999</td>\n",
       "      <td>Emissions of CH4, which account for approximat...</td>\n",
       "      <td>0</td>\n",
       "    </tr>\n",
       "  </tbody>\n",
       "</table>\n",
       "<p>1000 rows × 3 columns</p>\n",
       "</div>"
      ],
      "text/plain": [
       "     Unnamed: 0                                               text  label\n",
       "0             0  − Scope 3: Optional scope that includes indire...      0\n",
       "1             1  The Group is not aware of any noise pollution ...      0\n",
       "2             2  Global climate change could exacerbate certain...      0\n",
       "3             3  Setting an investment horizon is part and parc...      1\n",
       "4             4  Climate change the physical impacts of climate...      0\n",
       "..          ...                                                ...    ...\n",
       "995         995  Greenhouse gas Mitigation Measures Our five ye...      1\n",
       "996         996  We have updated our external sector statements...      1\n",
       "997         997  STOREBRAND'S USE Task Force on Climate-related...      0\n",
       "998         998  Estimations of nanced emissions indicate the i...      0\n",
       "999         999  Emissions of CH4, which account for approximat...      0\n",
       "\n",
       "[1000 rows x 3 columns]"
      ]
     },
     "execution_count": 2,
     "metadata": {},
     "output_type": "execute_result"
    }
   ],
   "source": [
    "df = pd.read_csv(\"climate_data/climate_test.csv\")\n",
    "df"
   ]
  },
  {
   "cell_type": "code",
   "execution_count": 3,
   "id": "b77fd853-8dc6-424b-8a70-2bb10bb0956d",
   "metadata": {},
   "outputs": [
    {
     "data": {
      "text/plain": [
       "Unnamed: 0    0\n",
       "text          0\n",
       "label         0\n",
       "dtype: int64"
      ]
     },
     "execution_count": 3,
     "metadata": {},
     "output_type": "execute_result"
    }
   ],
   "source": [
    "df.isna().sum()"
   ]
  },
  {
   "cell_type": "code",
   "execution_count": 4,
   "id": "f4a0dc4c-d17e-4d81-b580-705db172063d",
   "metadata": {},
   "outputs": [
    {
     "data": {
      "text/plain": [
       "'We emitted 13.4 million tonnes CO2 of Scope 2 (indirect emissions), being emissions arising from our consumption of purchased electricity, steam or heat. Our Scope 3 emissions include emissions from a broad range of sources, including shipping and land transportation. More details on our Scope 3 emissions will be available in our 2014'"
      ]
     },
     "execution_count": 4,
     "metadata": {},
     "output_type": "execute_result"
    }
   ],
   "source": [
    "(df[\"text\"][6])"
   ]
  },
  {
   "cell_type": "code",
   "execution_count": 5,
   "id": "bef98e17-8499-4db6-9128-83f146e89bf4",
   "metadata": {},
   "outputs": [
    {
     "data": {
      "text/plain": [
       "<Axes: >"
      ]
     },
     "execution_count": 5,
     "metadata": {},
     "output_type": "execute_result"
    },
    {
     "data": {
      "image/png": "[encoded data removed]",
      "text/plain": [
       "<Figure size 640x480 with 1 Axes>"
      ]
     },
     "metadata": {},
     "output_type": "display_data"
    }
   ],
   "source": [
    "df[\"text\"].str.len().hist()\n"
   ]
  },
  {
   "cell_type": "code",
   "execution_count": null,
   "id": "4fd300db-8e85-4f7f-87cd-ceb0047be646",
   "metadata": {},
   "outputs": [],
   "source": []
  },
  {
   "cell_type": "code",
   "execution_count": null,
   "id": "c323782b-21d3-4d03-944e-96df13a0f590",
   "metadata": {},
   "outputs": [],
   "source": []
  },
  {
   "cell_type": "code",
   "execution_count": null,
   "id": "f73f6037-0072-406d-9856-6f1a59038a7b",
   "metadata": {},
   "outputs": [],
   "source": []
  },
  {
   "cell_type": "code",
   "execution_count": null,
   "id": "f7bed3af-e3c4-48e3-8453-b52441f1e6d5",
   "metadata": {},
   "outputs": [],
   "source": []
  },
  {
   "cell_type": "code",
   "execution_count": null,
   "id": "e6654bba-5f9a-43cd-a606-f80e38dad305",
   "metadata": {},
   "outputs": [],
   "source": []
  },
  {
   "cell_type": "code",
   "execution_count": null,
   "id": "b2344f24-7e2d-46d1-8c5a-dc9486b2562c",
   "metadata": {},
   "outputs": [],
   "source": []
  },
  {
   "cell_type": "code",
   "execution_count": null,
   "id": "3323deec-bb2c-4330-842c-fb868e178386",
   "metadata": {},
   "outputs": [],
   "source": []
  }
 ],
 "metadata": {
  "kernelspec": {
   "display_name": "Python 3 (ipykernel)",
   "language": "python",
   "name": "python3"
  },
  "language_info": {
   "codemirror_mode": {
    "name": "ipython",
    "version": 3
   },
   "file_extension": ".py",
   "mimetype": "text/x-python",
   "name": "python",
   "nbconvert_exporter": "python",
   "pygments_lexer": "ipython3",
   "version": "3.11.5"
  }
 },
 "nbformat": 4,
 "nbformat_minor": 5
}
